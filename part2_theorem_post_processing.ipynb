{
 "cells": [
  {
   "cell_type": "markdown",
   "metadata": {},
   "source": [
    "## Part 2: Dataset Post-Processing\n",
    "----------------"
   ]
  },
  {
   "cell_type": "markdown",
   "metadata": {},
   "source": [
    "### Data Post-Processing"
   ]
  },
  {
   "cell_type": "code",
   "execution_count": 29,
   "metadata": {},
   "outputs": [],
   "source": [
    "import csv\n",
    "\n",
    "csv_name = \"limited_theorem_classes_type1.csv\"\n",
    "labels = []\n",
    "thms = []\n",
    "\n",
    "with open(csv_name, \"r\", encoding=\"utf8\", newline='') as csvfile:\n",
    "    # Create a CSV reader object\n",
    "    csvreader = csv.reader(csvfile)\n",
    "\n",
    "    for row in csvreader:\n",
    "        if (row[-1] == \"theorem\"):\n",
    "            continue\n",
    "        \n",
    "        labels.append(row[0])\n",
    "        thms.append(row[1])"
   ]
  },
  {
   "cell_type": "code",
   "execution_count": 30,
   "metadata": {},
   "outputs": [],
   "source": [
    "def stripChars1(thm):\n",
    "    # taking out \"unimportant\" characters and excess whitespace\n",
    "    removed_symbols = [\"(\", \")\", \"theorem\", \"[\", \"]\", \"{\", \"}\", \",\", \":\"]\n",
    "    white_space = [\" \", \"\\n\", \"\\t\", \"\\v\", \"\\r\", \".\"]\n",
    "\n",
    "    # taking out \"unimportant\" characters\n",
    "    for sym in removed_symbols:\n",
    "        thm = thm.replace(sym, \"\")\n",
    "\n",
    "    # taking out excess whitespace    \n",
    "    for sym in white_space:\n",
    "        thm = thm.replace(sym, \" \")\n",
    "    \n",
    "    thm = ' '.join(thm.split())\n",
    "    \n",
    "    splitBySpaces = thm.split(\" \")\n",
    "\n",
    "    for i in range(len(splitBySpaces) - 1, -1, -1):\n",
    "        if (splitBySpaces[i].islower() and len(splitBySpaces[i]) == 1):\n",
    "            del splitBySpaces[i]\n",
    "    \n",
    "    thm = \" \".join(splitBySpaces)\n",
    "    \n",
    "    return thm"
   ]
  },
  {
   "cell_type": "code",
   "execution_count": 31,
   "metadata": {},
   "outputs": [],
   "source": [
    "def stripChars2(thm):\n",
    "    removed_symbols = [\"(\", \")\", \"theorem\", \"[\", \"]\", \"{\", \"}\", \",\", \":\"]\n",
    "    white_space = [\" \", \"\\n\", \"\\t\", \"\\v\", \"\\r\", \".\"]\n",
    "\n",
    "    # taking out \"unimportant\" characters\n",
    "    for sym in removed_symbols:\n",
    "        thm = thm.replace(sym, \"\")\n",
    "    \n",
    "    # taking out excess whitespace\n",
    "    for sym in white_space:\n",
    "        thm = thm.replace(sym, \" \")\n",
    "    \n",
    "    thm = ' '.join(thm.split())\n",
    "    \n",
    "    # remove name of the theorem\n",
    "    splitBySpaces = thm.split(\" \")[1:]\n",
    "\n",
    "    for i in range(len(splitBySpaces) - 1, -1, -1):\n",
    "        if (splitBySpaces[i].islower() and len(splitBySpaces[i]) == 1):\n",
    "            del splitBySpaces[i]\n",
    "    \n",
    "    thm = \" \".join(splitBySpaces)\n",
    "    \n",
    "    return thm"
   ]
  },
  {
   "cell_type": "code",
   "execution_count": 32,
   "metadata": {},
   "outputs": [
    {
     "name": "stdout",
     "output_type": "stream",
     "text": [
      "Before: theorem isAlgebraic_zero [Nontrivial R] : IsAlgebraic R (0 : A)\n",
      "\n",
      "After 1: isAlgebraic_zero Nontrivial R IsAlgebraic R 0 A\n",
      "\n",
      "After 2: Nontrivial R IsAlgebraic R 0 A\n"
     ]
    }
   ],
   "source": [
    "ind = 69420\n",
    "\n",
    "print(\"Before: \" + thms[ind])\n",
    "\n",
    "new_thm = stripChars1(thms[ind])\n",
    "print(\"\\nAfter 1: \" + new_thm)\n",
    "\n",
    "new_thm = stripChars2(thms[ind])\n",
    "print(\"\\nAfter 2: \" + new_thm)"
   ]
  },
  {
   "cell_type": "code",
   "execution_count": 33,
   "metadata": {},
   "outputs": [],
   "source": [
    "for i in range(len(thms)):\n",
    "    thms[i] = stripChars1(thms[i])"
   ]
  },
  {
   "cell_type": "markdown",
   "metadata": {},
   "source": [
    "### CSV File Creation"
   ]
  },
  {
   "cell_type": "code",
   "execution_count": 35,
   "metadata": {},
   "outputs": [],
   "source": [
    "csv_name = csv_name.split(\".\")\n",
    "csv_name[0] += \"_post_processed\"\n",
    "csv_name = \".\".join(csv_name)\n",
    "\n",
    "with open(csv_name, 'w', encoding=\"utf8\", newline='') as file:\n",
    "    writer = csv.writer(file)\n",
    "    field = [\"subject_label\", \"theorem\"]\n",
    "    \n",
    "    writer.writerow(field)\n",
    "\n",
    "    for i in range(len(thms)):\n",
    "        writer.writerow([labels[i], thms[i]])"
   ]
  }
 ],
 "metadata": {
  "kernelspec": {
   "display_name": "Python 3",
   "language": "python",
   "name": "python3"
  },
  "language_info": {
   "codemirror_mode": {
    "name": "ipython",
    "version": 3
   },
   "file_extension": ".py",
   "mimetype": "text/x-python",
   "name": "python",
   "nbconvert_exporter": "python",
   "pygments_lexer": "ipython3",
   "version": "3.10.6"
  }
 },
 "nbformat": 4,
 "nbformat_minor": 2
}
